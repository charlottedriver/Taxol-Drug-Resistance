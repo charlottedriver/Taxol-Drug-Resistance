{
 "cells": [
  {
   "cell_type": "markdown",
   "id": "59b52acb",
   "metadata": {},
   "source": [
    "# Taxol Drug Resistance in Breast Cancer"
   ]
  },
  {
   "cell_type": "markdown",
   "id": "908a0a12",
   "metadata": {},
   "source": [
    "## Import Libraries"
   ]
  },
  {
   "cell_type": "code",
   "execution_count": 20,
   "id": "d15527df",
   "metadata": {},
   "outputs": [],
   "source": [
    "import pandas as pd\n",
    "import numpy as np\n",
    "import matplotlib.pyplot as plt\n",
    "import seaborn as sns"
   ]
  },
  {
   "cell_type": "markdown",
   "id": "9f8d2a22",
   "metadata": {},
   "source": [
    "## Import Data"
   ]
  },
  {
   "cell_type": "code",
   "execution_count": 21,
   "id": "7f375682",
   "metadata": {},
   "outputs": [
    {
     "data": {
      "text/html": [
       "<div>\n",
       "<style scoped>\n",
       "    .dataframe tbody tr th:only-of-type {\n",
       "        vertical-align: middle;\n",
       "    }\n",
       "\n",
       "    .dataframe tbody tr th {\n",
       "        vertical-align: top;\n",
       "    }\n",
       "\n",
       "    .dataframe thead th {\n",
       "        text-align: right;\n",
       "    }\n",
       "</style>\n",
       "<table border=\"1\" class=\"dataframe\">\n",
       "  <thead>\n",
       "    <tr style=\"text-align: right;\">\n",
       "      <th></th>\n",
       "      <th>Gene.symbol</th>\n",
       "      <th>P.Value</th>\n",
       "      <th>logFC</th>\n",
       "      <th>Cell Line</th>\n",
       "    </tr>\n",
       "  </thead>\n",
       "  <tbody>\n",
       "    <tr>\n",
       "      <th>0</th>\n",
       "      <td>EDIL3</td>\n",
       "      <td>2.350000e-18</td>\n",
       "      <td>-6.356883</td>\n",
       "      <td>BAS</td>\n",
       "    </tr>\n",
       "    <tr>\n",
       "      <th>1</th>\n",
       "      <td>IGFBP7</td>\n",
       "      <td>2.230000e-19</td>\n",
       "      <td>-6.302001</td>\n",
       "      <td>BAS</td>\n",
       "    </tr>\n",
       "    <tr>\n",
       "      <th>2</th>\n",
       "      <td>TFPI</td>\n",
       "      <td>3.480000e-17</td>\n",
       "      <td>-5.950269</td>\n",
       "      <td>BAS</td>\n",
       "    </tr>\n",
       "    <tr>\n",
       "      <th>3</th>\n",
       "      <td>CLDN1</td>\n",
       "      <td>4.550000e-19</td>\n",
       "      <td>-5.599057</td>\n",
       "      <td>BAS</td>\n",
       "    </tr>\n",
       "    <tr>\n",
       "      <th>4</th>\n",
       "      <td>ANKRD1</td>\n",
       "      <td>2.650000e-18</td>\n",
       "      <td>-5.415740</td>\n",
       "      <td>BAS</td>\n",
       "    </tr>\n",
       "  </tbody>\n",
       "</table>\n",
       "</div>"
      ],
      "text/plain": [
       "  Gene.symbol       P.Value     logFC Cell Line\n",
       "0       EDIL3  2.350000e-18 -6.356883       BAS\n",
       "1      IGFBP7  2.230000e-19 -6.302001       BAS\n",
       "2        TFPI  3.480000e-17 -5.950269       BAS\n",
       "3       CLDN1  4.550000e-19 -5.599057       BAS\n",
       "4      ANKRD1  2.650000e-18 -5.415740       BAS"
      ]
     },
     "execution_count": 21,
     "metadata": {},
     "output_type": "execute_result"
    }
   ],
   "source": [
    "df = pd.read_csv('Dataset.csv')\n",
    "df.head()"
   ]
  },
  {
   "cell_type": "markdown",
   "id": "baf633a1",
   "metadata": {},
   "source": [
    "## EDA"
   ]
  },
  {
   "cell_type": "code",
   "execution_count": 22,
   "id": "2bad82b2",
   "metadata": {},
   "outputs": [
    {
     "name": "stdout",
     "output_type": "stream",
     "text": [
      "<class 'pandas.core.frame.DataFrame'>\n",
      "RangeIndex: 21312 entries, 0 to 21311\n",
      "Data columns (total 4 columns):\n",
      " #   Column       Non-Null Count  Dtype  \n",
      "---  ------       --------------  -----  \n",
      " 0   Gene.symbol  21312 non-null  object \n",
      " 1   P.Value      21312 non-null  float64\n",
      " 2   logFC        21312 non-null  float64\n",
      " 3   Cell Line    21312 non-null  object \n",
      "dtypes: float64(2), object(2)\n",
      "memory usage: 666.1+ KB\n"
     ]
    }
   ],
   "source": [
    "df.info()"
   ]
  },
  {
   "cell_type": "code",
   "execution_count": 23,
   "id": "9c57c461",
   "metadata": {},
   "outputs": [],
   "source": [
    "### Missing Values"
   ]
  },
  {
   "cell_type": "code",
   "execution_count": 24,
   "id": "496e7b85",
   "metadata": {},
   "outputs": [
    {
     "data": {
      "text/plain": [
       "Gene.symbol    0\n",
       "P.Value        0\n",
       "logFC          0\n",
       "Cell Line      0\n",
       "dtype: int64"
      ]
     },
     "execution_count": 24,
     "metadata": {},
     "output_type": "execute_result"
    }
   ],
   "source": [
    "df.isnull().sum()"
   ]
  },
  {
   "cell_type": "code",
   "execution_count": 25,
   "id": "274c5fd6",
   "metadata": {},
   "outputs": [
    {
     "data": {
      "text/html": [
       "<div>\n",
       "<style scoped>\n",
       "    .dataframe tbody tr th:only-of-type {\n",
       "        vertical-align: middle;\n",
       "    }\n",
       "\n",
       "    .dataframe tbody tr th {\n",
       "        vertical-align: top;\n",
       "    }\n",
       "\n",
       "    .dataframe thead th {\n",
       "        text-align: right;\n",
       "    }\n",
       "</style>\n",
       "<table border=\"1\" class=\"dataframe\">\n",
       "  <thead>\n",
       "    <tr style=\"text-align: right;\">\n",
       "      <th></th>\n",
       "      <th>P.Value</th>\n",
       "      <th>logFC</th>\n",
       "    </tr>\n",
       "  </thead>\n",
       "  <tbody>\n",
       "    <tr>\n",
       "      <th>count</th>\n",
       "      <td>2.131200e+04</td>\n",
       "      <td>21312.000000</td>\n",
       "    </tr>\n",
       "    <tr>\n",
       "      <th>mean</th>\n",
       "      <td>1.133600e-02</td>\n",
       "      <td>0.017073</td>\n",
       "    </tr>\n",
       "    <tr>\n",
       "      <th>std</th>\n",
       "      <td>1.409163e-02</td>\n",
       "      <td>0.857761</td>\n",
       "    </tr>\n",
       "    <tr>\n",
       "      <th>min</th>\n",
       "      <td>2.230000e-19</td>\n",
       "      <td>-6.356883</td>\n",
       "    </tr>\n",
       "    <tr>\n",
       "      <th>25%</th>\n",
       "      <td>2.427500e-04</td>\n",
       "      <td>-0.496397</td>\n",
       "    </tr>\n",
       "    <tr>\n",
       "      <th>50%</th>\n",
       "      <td>4.330000e-03</td>\n",
       "      <td>0.267810</td>\n",
       "    </tr>\n",
       "    <tr>\n",
       "      <th>75%</th>\n",
       "      <td>1.940000e-02</td>\n",
       "      <td>0.508133</td>\n",
       "    </tr>\n",
       "    <tr>\n",
       "      <th>max</th>\n",
       "      <td>4.990000e-02</td>\n",
       "      <td>8.400665</td>\n",
       "    </tr>\n",
       "  </tbody>\n",
       "</table>\n",
       "</div>"
      ],
      "text/plain": [
       "            P.Value         logFC\n",
       "count  2.131200e+04  21312.000000\n",
       "mean   1.133600e-02      0.017073\n",
       "std    1.409163e-02      0.857761\n",
       "min    2.230000e-19     -6.356883\n",
       "25%    2.427500e-04     -0.496397\n",
       "50%    4.330000e-03      0.267810\n",
       "75%    1.940000e-02      0.508133\n",
       "max    4.990000e-02      8.400665"
      ]
     },
     "execution_count": 25,
     "metadata": {},
     "output_type": "execute_result"
    }
   ],
   "source": [
    "df.describe()"
   ]
  },
  {
   "cell_type": "markdown",
   "id": "a8799851",
   "metadata": {},
   "source": [
    "### Distribution of Cell Line Classes"
   ]
  },
  {
   "cell_type": "code",
   "execution_count": 26,
   "id": "9656fe61",
   "metadata": {
    "scrolled": false
   },
   "outputs": [
    {
     "data": {
      "text/plain": [
       "<Axes: xlabel='Cell Line', ylabel='count'>"
      ]
     },
     "execution_count": 26,
     "metadata": {},
     "output_type": "execute_result"
    },
    {
     "data": {
      "image/png": "[encoded data removed]",
      "text/plain": [
       "<Figure size 640x480 with 1 Axes>"
      ]
     },
     "metadata": {},
     "output_type": "display_data"
    }
   ],
   "source": [
    "sns.countplot(data=df, x='Cell Line')"
   ]
  },
  {
   "cell_type": "markdown",
   "id": "816db7fb",
   "metadata": {},
   "source": [
    "### Distribution of logFC and P.Value by Cell Lines"
   ]
  },
  {
   "cell_type": "code",
   "execution_count": 27,
   "id": "dc816dfa",
   "metadata": {},
   "outputs": [
    {
     "name": "stderr",
     "output_type": "stream",
     "text": [
      "/Users/charlottedriver/anaconda3/lib/python3.11/site-packages/seaborn/axisgrid.py:118: UserWarning: The figure layout has changed to tight\n",
      "  self._figure.tight_layout(*args, **kwargs)\n"
     ]
    },
    {
     "data": {
      "text/plain": [
       "<seaborn.axisgrid.FacetGrid at 0x16a1c8690>"
      ]
     },
     "execution_count": 27,
     "metadata": {},
     "output_type": "execute_result"
    },
    {
     "data": {
      "image/png": "[encoded data removed]",
      "text/plain": [
       "<Figure size 1200x300 with 4 Axes>"
      ]
     },
     "metadata": {},
     "output_type": "display_data"
    }
   ],
   "source": [
    "dis = sns.FacetGrid(df, col='Cell Line')\n",
    "dis.map_dataframe(sns.histplot, x='logFC')"
   ]
  },
  {
   "cell_type": "code",
   "execution_count": 28,
   "id": "86a88a4d",
   "metadata": {},
   "outputs": [
    {
     "name": "stderr",
     "output_type": "stream",
     "text": [
      "/Users/charlottedriver/anaconda3/lib/python3.11/site-packages/seaborn/axisgrid.py:118: UserWarning: The figure layout has changed to tight\n",
      "  self._figure.tight_layout(*args, **kwargs)\n"
     ]
    },
    {
     "data": {
      "text/plain": [
       "<seaborn.axisgrid.FacetGrid at 0x16a4d0890>"
      ]
     },
     "execution_count": 28,
     "metadata": {},
     "output_type": "execute_result"
    },
    {
     "data": {
      "image/png": "[encoded data removed]",
      "text/plain": [
       "<Figure size 1200x300 with 4 Axes>"
      ]
     },
     "metadata": {},
     "output_type": "display_data"
    }
   ],
   "source": [
    "dis = sns.FacetGrid(df, col='Cell Line')\n",
    "dis.map_dataframe(sns.histplot, x='P.Value')"
   ]
  },
  {
   "cell_type": "markdown",
   "id": "f68093dc",
   "metadata": {},
   "source": [
    "## Feature Selection"
   ]
  },
  {
   "cell_type": "markdown",
   "id": "ecadece3",
   "metadata": {},
   "source": [
    "### y"
   ]
  },
  {
   "cell_type": "code",
   "execution_count": 29,
   "id": "17003203",
   "metadata": {},
   "outputs": [
    {
     "data": {
      "text/html": [
       "<div>\n",
       "<style scoped>\n",
       "    .dataframe tbody tr th:only-of-type {\n",
       "        vertical-align: middle;\n",
       "    }\n",
       "\n",
       "    .dataframe tbody tr th {\n",
       "        vertical-align: top;\n",
       "    }\n",
       "\n",
       "    .dataframe thead th {\n",
       "        text-align: right;\n",
       "    }\n",
       "</style>\n",
       "<table border=\"1\" class=\"dataframe\">\n",
       "  <thead>\n",
       "    <tr style=\"text-align: right;\">\n",
       "      <th></th>\n",
       "      <th>Gene.symbol</th>\n",
       "      <th>P.Value</th>\n",
       "      <th>logFC</th>\n",
       "      <th>Cell Line</th>\n",
       "    </tr>\n",
       "  </thead>\n",
       "  <tbody>\n",
       "    <tr>\n",
       "      <th>0</th>\n",
       "      <td>3061.0</td>\n",
       "      <td>2.350000e-18</td>\n",
       "      <td>-6.356883</td>\n",
       "      <td>BAS</td>\n",
       "    </tr>\n",
       "    <tr>\n",
       "      <th>1</th>\n",
       "      <td>4932.0</td>\n",
       "      <td>2.230000e-19</td>\n",
       "      <td>-6.302001</td>\n",
       "      <td>BAS</td>\n",
       "    </tr>\n",
       "    <tr>\n",
       "      <th>2</th>\n",
       "      <td>11118.0</td>\n",
       "      <td>3.480000e-17</td>\n",
       "      <td>-5.950269</td>\n",
       "      <td>BAS</td>\n",
       "    </tr>\n",
       "    <tr>\n",
       "      <th>3</th>\n",
       "      <td>2028.0</td>\n",
       "      <td>4.550000e-19</td>\n",
       "      <td>-5.599057</td>\n",
       "      <td>BAS</td>\n",
       "    </tr>\n",
       "    <tr>\n",
       "      <th>4</th>\n",
       "      <td>448.0</td>\n",
       "      <td>2.650000e-18</td>\n",
       "      <td>-5.415740</td>\n",
       "      <td>BAS</td>\n",
       "    </tr>\n",
       "  </tbody>\n",
       "</table>\n",
       "</div>"
      ],
      "text/plain": [
       "   Gene.symbol       P.Value     logFC Cell Line\n",
       "0       3061.0  2.350000e-18 -6.356883       BAS\n",
       "1       4932.0  2.230000e-19 -6.302001       BAS\n",
       "2      11118.0  3.480000e-17 -5.950269       BAS\n",
       "3       2028.0  4.550000e-19 -5.599057       BAS\n",
       "4        448.0  2.650000e-18 -5.415740       BAS"
      ]
     },
     "execution_count": 29,
     "metadata": {},
     "output_type": "execute_result"
    }
   ],
   "source": [
    "from sklearn.preprocessing import OrdinalEncoder\n",
    "\n",
    "encoder = OrdinalEncoder()\n",
    "df[['Gene.symbol']] = encoder.fit_transform(df[['Gene.symbol']])\n",
    "df.head()"
   ]
  },
  {
   "cell_type": "code",
   "execution_count": 30,
   "id": "cd34beae",
   "metadata": {},
   "outputs": [],
   "source": [
    "y = df['Cell Line']"
   ]
  },
  {
   "cell_type": "markdown",
   "id": "17b246e7",
   "metadata": {},
   "source": [
    "### x"
   ]
  },
  {
   "cell_type": "code",
   "execution_count": 31,
   "id": "b0fbcf6e",
   "metadata": {},
   "outputs": [],
   "source": [
    "x = df.drop(['Cell Line'], axis=1)"
   ]
  },
  {
   "cell_type": "markdown",
   "id": "57b7945d",
   "metadata": {},
   "source": [
    "### Splitting the Data"
   ]
  },
  {
   "cell_type": "code",
   "execution_count": 36,
   "id": "5882e098",
   "metadata": {},
   "outputs": [],
   "source": [
    "from sklearn.model_selection import train_test_split\n",
    "\n",
    "x_train, x_test, y_train, y_test = train_test_split(x, y, test_size = 70, random_state=40)"
   ]
  },
  {
   "cell_type": "code",
   "execution_count": 32,
   "id": "6efb6b8d",
   "metadata": {},
   "outputs": [],
   "source": [
    "## Model"
   ]
  },
  {
   "cell_type": "markdown",
   "id": "89a6b106",
   "metadata": {},
   "source": [
    "### Model Evaluation"
   ]
  },
  {
   "cell_type": "code",
   "execution_count": 33,
   "id": "1353ba02",
   "metadata": {},
   "outputs": [],
   "source": [
    "# Classification Report"
   ]
  },
  {
   "cell_type": "code",
   "execution_count": 34,
   "id": "b54842b5",
   "metadata": {},
   "outputs": [],
   "source": [
    "# Accuracy Score"
   ]
  },
  {
   "cell_type": "code",
   "execution_count": 35,
   "id": "56907489",
   "metadata": {},
   "outputs": [],
   "source": [
    "# Heat Map"
   ]
  }
 ],
 "metadata": {
  "kernelspec": {
   "display_name": "Python 3 (ipykernel)",
   "language": "python",
   "name": "python3"
  },
  "language_info": {
   "codemirror_mode": {
    "name": "ipython",
    "version": 3
   },
   "file_extension": ".py",
   "mimetype": "text/x-python",
   "name": "python",
   "nbconvert_exporter": "python",
   "pygments_lexer": "ipython3",
   "version": "3.11.5"
  }
 },
 "nbformat": 4,
 "nbformat_minor": 5
}
